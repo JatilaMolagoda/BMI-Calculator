{
 "cells": [
  {
   "cell_type": "markdown",
   "id": "ba997e5a",
   "metadata": {},
   "source": [
    "# BMI Calculator \n",
    "https://mercer-health.com/services/weight-management-center/bmi-calculator#:~:text=Body%20Mass%20Index%2C%20or%20BMI,inches%20x%20height%20in%20inches"
   ]
  },
  {
   "cell_type": "code",
   "execution_count": 19,
   "id": "3c7a543d",
   "metadata": {},
   "outputs": [
    {
     "name": "stdout",
     "output_type": "stream",
     "text": [
      "Enter your name: Jatila\n",
      "Enter your weight in killos: 88\n",
      "Enter your hight in inchers: 68\n",
      "29.433564013840833\n",
      "Jatila, You are in the overweight range\n"
     ]
    }
   ],
   "source": [
    "Name = input(\"Enter your name: \")\n",
    "\n",
    "Weight = int(input(\"Enter your weight in killos: \"))\n",
    "\n",
    "Height = int(input(\"Enter your hight in inchers: \"))\n",
    "\n",
    "BMI =  (Weight*2.2 * 703) / (Height* Height)\n",
    "\n",
    "print(BMI)\n",
    "\n",
    "if BMI>0:\n",
    "    if (BMI<18.5):\n",
    "        print(Name +\", You are in the underweight range\")\n",
    "    elif (18.5<BMI<24.9):\n",
    "        print(Name +\", You are in the healthyweight range\")\n",
    "    elif (25.0<BMI<29.9):\n",
    "        print(Name +\", You are in the overweight range\")\n",
    "    elif (BMI>30):\n",
    "        print(Name +\", You are in the obese range\")\n",
    "    else:\n",
    "        print(\"Enter valid inputs\")"
   ]
  },
  {
   "cell_type": "code",
   "execution_count": null,
   "id": "ba14373c",
   "metadata": {},
   "outputs": [],
   "source": []
  },
  {
   "cell_type": "code",
   "execution_count": null,
   "id": "5f030ae7",
   "metadata": {},
   "outputs": [],
   "source": [
    "If your BMI is less than 18.5, it falls within the underweight range.\n",
    "If your BMI is 18.5 to 24.9, it falls within the Healthy Weight range.\n",
    "If your BMI is 25.0 to 29.9, it falls within the overweight range.\n",
    "If your BMI is 30.0 or higher, it falls within the obese range."
   ]
  },
  {
   "cell_type": "code",
   "execution_count": 18,
   "id": "f2ad0978",
   "metadata": {},
   "outputs": [
    {
     "name": "stdout",
     "output_type": "stream",
     "text": [
      "Jatila, You are in the overweight range\n"
     ]
    }
   ],
   "source": [
    "if BMI>0:\n",
    "    if (BMI<18.5):\n",
    "        print(Name +\", You are in the underweight range\")\n",
    "    elif (18.5<BMI<24.9):\n",
    "        print(Name +\", You are in the healthyweight range\")\n",
    "    elif (25.0<BMI<29.9):\n",
    "        print(Name +\", You are in the overweight range\")\n",
    "    elif (BMI>30):\n",
    "        print(Name +\", You are in the obese range\")\n",
    "    else:\n",
    "        print(\"Enter valid inputs\")"
   ]
  },
  {
   "cell_type": "code",
   "execution_count": null,
   "id": "ffeb3f62",
   "metadata": {},
   "outputs": [],
   "source": []
  }
 ],
 "metadata": {
  "kernelspec": {
   "display_name": "Python 3 (ipykernel)",
   "language": "python",
   "name": "python3"
  },
  "language_info": {
   "codemirror_mode": {
    "name": "ipython",
    "version": 3
   },
   "file_extension": ".py",
   "mimetype": "text/x-python",
   "name": "python",
   "nbconvert_exporter": "python",
   "pygments_lexer": "ipython3",
   "version": "3.9.13"
  }
 },
 "nbformat": 4,
 "nbformat_minor": 5
}
